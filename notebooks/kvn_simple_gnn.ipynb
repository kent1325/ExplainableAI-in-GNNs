{
 "cells": [
  {
   "cell_type": "code",
   "execution_count": 1,
   "metadata": {},
   "outputs": [],
   "source": [
    "import torch\n",
    "from torch import sigmoid\n",
    "from torch.nn import Linear, BCEWithLogitsLoss\n",
    "from torch.optim import Adam\n",
    "import torch.nn.functional as F\n",
    "from torch_geometric.datasets import TUDataset\n",
    "from torch_geometric.utils import to_networkx\n",
    "from torch_geometric.nn import GCNConv\n",
    "from torch_geometric.nn import global_mean_pool as gap, global_max_pool as gmp\n",
    "#from torch_geometric.data import DataLoader\n",
    "from torch_geometric.loader import DataLoader\n",
    "import networkx as nx\n",
    "import matplotlib.pyplot as plt"
   ]
  },
  {
   "cell_type": "code",
   "execution_count": 2,
   "metadata": {},
   "outputs": [],
   "source": [
    "dataset = TUDataset(root='../data/', name='MUTAG')"
   ]
  },
  {
   "cell_type": "code",
   "execution_count": 3,
   "metadata": {},
   "outputs": [],
   "source": [
    "embedding_size = 32\n",
    "class GCN(torch.nn.Module):\n",
    "    def __init__(self):\n",
    "        super(GCN, self).__init__()\n",
    "        torch.manual_seed(12345)\n",
    "        \n",
    "        #GCN Layers\n",
    "        self.input = GCNConv(dataset.num_features, embedding_size)\n",
    "        self.conv1 = GCNConv(embedding_size, embedding_size)\n",
    "        self.conv2 = GCNConv(embedding_size, embedding_size)\n",
    "        self.conv3 = GCNConv(embedding_size, embedding_size)\n",
    "        self.output = Linear(embedding_size*2, 1)\n",
    "        \n",
    "    def forward(self, x, edge_index, batch_index):\n",
    "        out = self.input(x, edge_index)\n",
    "        out = F.relu(out)\n",
    "        out = self.conv1(out, edge_index)\n",
    "        out = F.relu(out)\n",
    "        out = self.conv2(out, edge_index)\n",
    "        out = F.relu(out)\n",
    "        out = self.conv3(out, edge_index)\n",
    "        out = F.relu(out)\n",
    "        \n",
    "        global_pool = torch.cat([gmp(out, batch_index), gap(out, batch_index)], dim=1)\n",
    "        \n",
    "        out = self.output(global_pool)\n",
    "        \n",
    "        return out, global_pool"
   ]
  },
  {
   "cell_type": "code",
   "execution_count": 4,
   "metadata": {},
   "outputs": [
    {
     "name": "stdout",
     "output_type": "stream",
     "text": [
      "GCN(\n",
      "  (input): GCNConv(7, 32)\n",
      "  (conv1): GCNConv(32, 32)\n",
      "  (conv2): GCNConv(32, 32)\n",
      "  (conv3): GCNConv(32, 32)\n",
      "  (output): Linear(in_features=64, out_features=1, bias=True)\n",
      ")\n"
     ]
    }
   ],
   "source": [
    "model = GCN()\n",
    "print(model)"
   ]
  },
  {
   "cell_type": "code",
   "execution_count": 5,
   "metadata": {},
   "outputs": [],
   "source": [
    "loss_fn = BCEWithLogitsLoss()\n",
    "optimizer = Adam(model.parameters(), lr=0.001)\n",
    "device = torch.device('cuda' if torch.cuda.is_available() else 'cpu')\n",
    "model = model.to(device)\n",
    "\n",
    "GRAPH_BATCH_SIZE = 8\n",
    "train_loader = DataLoader(dataset[:int(len(dataset)*0.8)], batch_size=GRAPH_BATCH_SIZE, shuffle=True)\n",
    "test_loader = DataLoader(dataset[int(len(dataset)*0.8):], batch_size=GRAPH_BATCH_SIZE, shuffle=True)"
   ]
  },
  {
   "cell_type": "code",
   "execution_count": 10,
   "metadata": {},
   "outputs": [],
   "source": [
    "def train_model(data):\n",
    "    for batch in data:\n",
    "        batch.to(device)\n",
    "        optimizer.zero_grad()\n",
    "        prediction, embedding = model(batch.x.float(), batch.edge_index, batch.batch)\n",
    "        prediction = sigmoid(prediction).round()\n",
    "        batch.y = batch.y.unsqueeze(1).float()\n",
    "        loss = loss_fn(prediction, batch.y)\n",
    "        loss.backward()\n",
    "        optimizer.step()\n",
    "    return loss, embedding"
   ]
  },
  {
   "cell_type": "code",
   "execution_count": 11,
   "metadata": {},
   "outputs": [
    {
     "name": "stdout",
     "output_type": "stream",
     "text": [
      "Epoch 1 | Train Loss: 0.647\n",
      "Epoch 10 | Train Loss: 0.543\n",
      "Epoch 20 | Train Loss: 0.710\n",
      "Epoch 30 | Train Loss: 0.567\n",
      "Epoch 40 | Train Loss: 0.837\n",
      "Epoch 50 | Train Loss: 0.543\n",
      "Epoch 60 | Train Loss: 0.773\n",
      "Epoch 70 | Train Loss: 0.503\n",
      "Epoch 80 | Train Loss: 0.440\n",
      "Epoch 90 | Train Loss: 0.773\n",
      "Epoch 100 | Train Loss: 0.773\n"
     ]
    }
   ],
   "source": [
    "losses = []\n",
    "for epoch in range(1, 101):\n",
    "    loss, embedding = train_model(train_loader)\n",
    "    losses.append(loss)\n",
    "    if epoch % 10 == 0 or epoch == 1:\n",
    "        print(f\"Epoch {epoch} | Train Loss: {loss:.3f}\")"
   ]
  }
 ],
 "metadata": {
  "kernelspec": {
   "display_name": "p7",
   "language": "python",
   "name": "python3"
  },
  "language_info": {
   "codemirror_mode": {
    "name": "ipython",
    "version": 3
   },
   "file_extension": ".py",
   "mimetype": "text/x-python",
   "name": "python",
   "nbconvert_exporter": "python",
   "pygments_lexer": "ipython3",
   "version": "3.10.12"
  },
  "orig_nbformat": 4
 },
 "nbformat": 4,
 "nbformat_minor": 2
}
