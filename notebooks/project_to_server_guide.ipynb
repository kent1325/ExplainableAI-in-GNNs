{
 "cells": [
  {
   "cell_type": "markdown",
   "metadata": {},
   "source": [
    "# Guide on using script to publish project to server\n",
    "\n",
    "## Upload projekt fra en given branch\n",
    "Erstat kommando fra step 2: git clone https://github.com/kent1325/p7.git\n",
    "\n",
    "Anvende følgende istedet: `git clone --branch <branchname> https://github.com/kent1325/p7.git`, hvor <branchname> eksempelvis kunne være *dev*.\n",
    "\n",
    "## Kørsel af model\n",
    "1. Installer sshpass pakken: \n",
    "    - `sudo apt install sshpass`\n",
    "***    \n",
    "\n",
    "2. Kopier følgende kode i et shell script fil (f.eks. *project_to_server.sh*):\n",
    "    ```\n",
    "    #!/bin/bash\n",
    "\n",
    "    # This script is used to copy the project to the aau AI Cloud server\n",
    "    hostname=\"ai-fe02.srv.aau.dk\"\n",
    "    local_project_path=\"$PWD/p7/\"\n",
    "\n",
    "    # Clone project from github\n",
    "    if [ -d \"$local_project_path\" ]; then\n",
    "        rm -rf $local_project_path\n",
    "        git clone https://github.com/kent1325/p7.git\n",
    "    else\n",
    "        git clone https://github.com/kent1325/p7.git\n",
    "    fi\n",
    "\n",
    "    # Enter AAU Credentials for authentication\n",
    "    echo \"\"\n",
    "    echo \"Enter AAU email:\"\n",
    "    read username\n",
    "    read -s -p \"AAU Password: \" password\n",
    "\n",
    "    # Create sftp conncetion and copy project to server\n",
    "    SSHPASS=$password sshpass -e sftp -o BatchMode=no -b - -P 22 -o PubkeyAuthentication=no $username@$hostname <<EOF\n",
    "    put -r $local_project_path\n",
    "    quit\n",
    "    EOF\n",
    "\n",
    "    rm -rf $local_project_path\n",
    "    echo \"Done!\"\n",
    "\n",
    "    ```\n",
    "***\n",
    "3. Åben terminalen og cd ind i folderen hvor scriptet er gemt\n",
    "***\n",
    "4. Eksekver koden:\n",
    "    - *`./project_to_server.sh`*\n",
    "***"
   ]
  }
 ],
 "metadata": {
  "language_info": {
   "name": "python"
  }
 },
 "nbformat": 4,
 "nbformat_minor": 2
}
