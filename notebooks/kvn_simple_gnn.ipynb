{
 "cells": [
  {
   "cell_type": "markdown",
   "metadata": {},
   "source": [
    "# Building and testing GNNs\n",
    "\n",
    "Inspiration found at https://github.com/deepfindr/gnn-project/blob/main/train.py"
   ]
  },
  {
   "cell_type": "code",
   "execution_count": 1,
   "metadata": {},
   "outputs": [],
   "source": [
    "import torch\n",
    "from torch import sigmoid\n",
    "from torch.nn import Linear, BCEWithLogitsLoss\n",
    "from torch.optim import Adam, SGD\n",
    "from torch.optim.lr_scheduler import ExponentialLR\n",
    "import torch.nn.functional as F\n",
    "from torch_geometric.datasets import TUDataset\n",
    "from torch_geometric.utils import to_networkx\n",
    "from torch_geometric.nn import GCNConv, GATConv, TopKPooling\n",
    "from torch_geometric.nn import global_mean_pool as gap, global_max_pool as gmp\n",
    "from torch_geometric.loader import DataLoader\n",
    "import networkx as nx\n",
    "import matplotlib.pyplot as plt\n",
    "from sklearn.metrics import confusion_matrix, ConfusionMatrixDisplay\n",
    "from tqdm import tqdm\n",
    "import numpy as np"
   ]
  },
  {
   "cell_type": "code",
   "execution_count": 2,
   "metadata": {},
   "outputs": [],
   "source": [
    "dataset = TUDataset(root='../data/', name='MUTAG')"
   ]
  },
  {
   "cell_type": "code",
   "execution_count": 3,
   "metadata": {},
   "outputs": [],
   "source": [
    "class GCN(torch.nn.Module):\n",
    "    def __init__(self):\n",
    "        super(GCN, self).__init__()\n",
    "        torch.manual_seed(12345)\n",
    "        embedding_size = 32\n",
    "        \n",
    "        #GCN Layers\n",
    "        self.input = GCNConv(dataset.num_features, embedding_size)\n",
    "        self.conv1 = GCNConv(embedding_size, embedding_size)\n",
    "        self.conv2 = GCNConv(embedding_size, embedding_size)\n",
    "        self.conv3 = GCNConv(embedding_size, embedding_size)\n",
    "        self.output = Linear(embedding_size*2, 1)\n",
    "        \n",
    "    def forward(self, x, edge_index, batch_index):\n",
    "        out = self.input(x, edge_index)\n",
    "        out = F.relu(out)\n",
    "        out = self.conv1(out, edge_index)\n",
    "        out = F.relu(out)\n",
    "        out = self.conv2(out, edge_index)\n",
    "        out = F.relu(out)\n",
    "        out = self.conv3(out, edge_index)\n",
    "        out = F.relu(out)\n",
    "        \n",
    "        out = torch.cat([gmp(out, batch_index), gap(out, batch_index)], dim=1)\n",
    "        \n",
    "        out = self.output(out)\n",
    "        \n",
    "        return out"
   ]
  },
  {
   "cell_type": "code",
   "execution_count": 4,
   "metadata": {},
   "outputs": [],
   "source": [
    "class GAT(torch.nn.Module):\n",
    "    def __init__(self, feature_size):\n",
    "        super(GAT, self).__init__()\n",
    "        torch.manual_seed(12345)\n",
    "        num_heads = 3\n",
    "        embedding_size = 32\n",
    "        \n",
    "        #GAT layers\n",
    "        self.input = GATConv(feature_size, embedding_size, heads=num_heads, dropout=0.3)\n",
    "        self.conv1 = GATConv(embedding_size, embedding_size, heads=num_heads, dropout=0.3)\n",
    "        self.conv2 = GATConv(embedding_size, embedding_size, heads=num_heads, dropout=0.3)\n",
    "        \n",
    "        # Tranformer layers\n",
    "        self.head_transform = Linear(embedding_size*num_heads, embedding_size)\n",
    "        \n",
    "        # Pooling layers\n",
    "        self.pool1 = TopKPooling(embedding_size, ratio=0.8)\n",
    "        self.pool2 = TopKPooling(embedding_size, ratio=0.5)\n",
    "        self.pool3 = TopKPooling(embedding_size, ratio=0.2)\n",
    "        \n",
    "        # Linear layers\n",
    "        self.linear1 = Linear(embedding_size*2, embedding_size)\n",
    "        self.output = Linear(embedding_size, 1)\n",
    "        \n",
    "    def forward(self, x, edge_index, batch_index):\n",
    "        out = self.input(x, edge_index)\n",
    "        out = self.head_transform(out)\n",
    "        out, edge_index, edge_attr, batch_index, _, _ = self.pool1(out, edge_index, None, batch_index)\n",
    "        \n",
    "        out1 = torch.cat([gmp(out, batch_index), gap(out, batch_index)], dim=1)\n",
    "        \n",
    "        out = self.conv1(out, edge_index)\n",
    "        out = self.head_transform(out)\n",
    "        out, edge_index, edge_attr, batch_index, _, _ = self.pool2(out, edge_index, None, batch_index)\n",
    "        \n",
    "        out2 = torch.cat([gmp(out, batch_index), gap(out, batch_index)], dim=1)\n",
    "        \n",
    "        out = self.conv2(out, edge_index)\n",
    "        out = self.head_transform(out)\n",
    "        out, edge_index, edge_attr, batch_index, _, _ = self.pool3(out, edge_index, None, batch_index)\n",
    "        \n",
    "        out3 = torch.cat([gmp(out, batch_index), gap(out, batch_index)], dim=1)\n",
    "        \n",
    "        out = out1 + out2 + out3\n",
    "        \n",
    "        out = self.linear1(out).relu()\n",
    "        out = F.dropout(out, p=0.5, training=self.training)\n",
    "        out = self.output(out)\n",
    "        \n",
    "        return out"
   ]
  },
  {
   "cell_type": "code",
   "execution_count": 5,
   "metadata": {},
   "outputs": [],
   "source": [
    "def count_parameters(model):\n",
    "    return sum(p.numel() for p in model.parameters() if p.requires_grad)"
   ]
  },
  {
   "cell_type": "code",
   "execution_count": 6,
   "metadata": {},
   "outputs": [
    {
     "name": "stdout",
     "output_type": "stream",
     "text": [
      "GAT(\n",
      "  (input): GATConv(7, 32, heads=3)\n",
      "  (conv1): GATConv(32, 32, heads=3)\n",
      "  (conv2): GATConv(32, 32, heads=3)\n",
      "  (head_transform): Linear(in_features=96, out_features=32, bias=True)\n",
      "  (pool1): TopKPooling(32, ratio=0.8, multiplier=1.0)\n",
      "  (pool2): TopKPooling(32, ratio=0.5, multiplier=1.0)\n",
      "  (pool3): TopKPooling(32, ratio=0.2, multiplier=1.0)\n",
      "  (linear1): Linear(in_features=64, out_features=32, bias=True)\n",
      "  (output): Linear(in_features=32, out_features=1, bias=True)\n",
      ")\n",
      "Number of parameters: 12993\n"
     ]
    }
   ],
   "source": [
    "#model = GCN()\n",
    "model = GAT(dataset.num_features)\n",
    "print(model)\n",
    "print(f'Number of parameters: {count_parameters(model)}')"
   ]
  },
  {
   "cell_type": "code",
   "execution_count": 12,
   "metadata": {},
   "outputs": [],
   "source": [
    "device = torch.device('cuda' if torch.cuda.is_available() else 'cpu')\n",
    "weight = torch.tensor([1.0], dtype=torch.float32).to(device)\n",
    "loss_fn = BCEWithLogitsLoss()\n",
    "optimizer = Adam(model.parameters(), lr=0.0001)\n",
    "scheduler = ExponentialLR(optimizer, gamma=0.9)\n",
    "model = model.to(device)\n",
    "\n",
    "GRAPH_BATCH_SIZE = 16\n",
    "train_loader = DataLoader(dataset[:int(len(dataset)*0.8)], batch_size=GRAPH_BATCH_SIZE, shuffle=True)\n",
    "test_loader = DataLoader(dataset[int(len(dataset)*0.8):], batch_size=GRAPH_BATCH_SIZE, shuffle=True)"
   ]
  },
  {
   "cell_type": "code",
   "execution_count": 13,
   "metadata": {},
   "outputs": [],
   "source": [
    "def train_model(data):\n",
    "    step = 0\n",
    "    running_loss = 0.0\n",
    "    y_pred, y_true = [], []\n",
    "    for batch in data:\n",
    "        batch.to(device)\n",
    "        optimizer.zero_grad()\n",
    "        predictions = model(batch.x.float(), batch.edge_index, batch.batch)\n",
    "        loss = loss_fn(torch.squeeze(predictions), batch.y.float())\n",
    "        loss.backward()\n",
    "        optimizer.step()\n",
    "        running_loss += loss.item()\n",
    "        step += 1\n",
    "        \n",
    "        y_pred.append(np.rint(torch.round(sigmoid(predictions)).detach().cpu().numpy()))\n",
    "        y_true.append(batch.y.detach().cpu().numpy())\n",
    "    \n",
    "    y_pred = np.concatenate(y_pred).ravel()\n",
    "    y_true = np.concatenate(y_true).ravel()\n",
    "    \n",
    "    return running_loss/step, y_pred, y_true"
   ]
  },
  {
   "cell_type": "code",
   "execution_count": 14,
   "metadata": {},
   "outputs": [],
   "source": [
    "def test_model(data):\n",
    "    step = 0\n",
    "    running_loss = 0.0\n",
    "    y_pred, y_true = [], []\n",
    "    for batch in data:\n",
    "        batch.to(device)\n",
    "        predictions = model(batch.x.float(), batch.edge_index, batch.batch)\n",
    "        loss = loss_fn(torch.squeeze(predictions), batch.y.float())\n",
    "        running_loss += loss.item()\n",
    "        step += 1\n",
    "        y_pred.append(np.rint(torch.round(sigmoid(predictions)).detach().cpu().numpy()))\n",
    "        y_true.append(batch.y.detach().cpu().numpy())\n",
    "        \n",
    "    y_pred = np.concatenate(y_pred).ravel()\n",
    "    y_true = np.concatenate(y_true).ravel()\n",
    "    \n",
    "    return running_loss/step, y_pred, y_true"
   ]
  },
  {
   "cell_type": "code",
   "execution_count": 15,
   "metadata": {},
   "outputs": [
    {
     "name": "stdout",
     "output_type": "stream",
     "text": [
      "Epoch 1 | Train Loss: 0.664\n",
      "Epoch 1 | Test Loss: 0.582\n",
      "Epoch 10 | Train Loss: 0.667\n",
      "Epoch 10 | Test Loss: 0.672\n",
      "Epoch 20 | Train Loss: 0.554\n",
      "Epoch 20 | Test Loss: 0.599\n",
      "Epoch 30 | Train Loss: 0.563\n",
      "Epoch 30 | Test Loss: 0.635\n",
      "Epoch 40 | Train Loss: 0.557\n",
      "Epoch 40 | Test Loss: 0.612\n",
      "Epoch 50 | Train Loss: 0.515\n",
      "Epoch 50 | Test Loss: 0.542\n",
      "Epoch 60 | Train Loss: 0.547\n",
      "Epoch 60 | Test Loss: 0.574\n",
      "Epoch 70 | Train Loss: 0.560\n",
      "Epoch 70 | Test Loss: 0.559\n",
      "Epoch 80 | Train Loss: 0.521\n",
      "Epoch 80 | Test Loss: 0.528\n",
      "Epoch 90 | Train Loss: 157.427\n",
      "Epoch 90 | Test Loss: 665.043\n",
      "Epoch 100 | Train Loss: 109.866\n",
      "Epoch 100 | Test Loss: 0.603\n"
     ]
    }
   ],
   "source": [
    "for epoch in range(1, 101):\n",
    "    model.train()\n",
    "    train_loss, train_y_pred, train_y_true = train_model(train_loader)\n",
    "    if epoch % 10 == 0 or epoch == 1:\n",
    "        print(f\"Epoch {epoch} | Train Loss: {train_loss:.3f}\")\n",
    "        \n",
    "        model.eval()\n",
    "        test_loss, test_y_pred, test_y_true = test_model(test_loader)\n",
    "        print(f\"Epoch {epoch} | Test Loss: {test_loss:.3f}\")\n",
    "        \n",
    "    #scheduler.step()"
   ]
  },
  {
   "cell_type": "code",
   "execution_count": 16,
   "metadata": {},
   "outputs": [
    {
     "data": {
      "text/plain": [
       "<sklearn.metrics._plot.confusion_matrix.ConfusionMatrixDisplay at 0x1e56b29ccd0>"
      ]
     },
     "execution_count": 16,
     "metadata": {},
     "output_type": "execute_result"
    },
    {
     "data": {
      "image/png": "[encoded data removed]",
      "text/plain": [
       "<Figure size 640x480 with 2 Axes>"
      ]
     },
     "metadata": {},
     "output_type": "display_data"
    }
   ],
   "source": [
    "cm = confusion_matrix(test_y_true, test_y_pred, labels=[0, 1])\n",
    "ConfusionMatrixDisplay(cm, display_labels=[0, 1]).plot()"
   ]
  }
 ],
 "metadata": {
  "kernelspec": {
   "display_name": "p7",
   "language": "python",
   "name": "python3"
  },
  "language_info": {
   "codemirror_mode": {
    "name": "ipython",
    "version": 3
   },
   "file_extension": ".py",
   "mimetype": "text/x-python",
   "name": "python",
   "nbconvert_exporter": "python",
   "pygments_lexer": "ipython3",
   "version": "3.11.5"
  },
  "orig_nbformat": 4
 },
 "nbformat": 4,
 "nbformat_minor": 2
}
