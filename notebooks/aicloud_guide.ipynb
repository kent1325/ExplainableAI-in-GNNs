{
 "cells": [
  {
   "cell_type": "markdown",
   "metadata": {},
   "source": [
    "# AI Cloud Guide\n",
    "\n",
    "## Kørsel af model\n",
    "1. Forbind til AI Cloud med: \n",
    "    - `ssh -l <aau email> ai-fe02.srv.aau.dk`\n",
    "***    \n",
    "\n",
    "2. Overfør P7 projektet til med Filezilla. Credentials i Filezilla er:\n",
    "    - Vært: **ai-fe02.srv.aau.dk**\n",
    "    - Brugernavn: `<AAU-Email>`\n",
    "    - Adgangskode: `<AAU Password>`\n",
    "    - Port: **22**\n",
    "***\n",
    "3. Indtast kommando for at køre model:\n",
    "    - `srun --gres=gpu:1 --pty singularity exec --nv <container> python3 <path/to/main.py>`\n",
    "    - Parametre:\n",
    "        - `--pty` er nødvendig for at få en \"interaktiv\" terminal, så prints løbende vises.\n",
    "        - `--gres=gpu:1` allokerer en gpu til jobbet.\n",
    "        - `--nv` skal bruges for at tillade GPU brug i containeren.\n",
    "***\n",
    "Andre brugbare parametre til kommando i trin 3:\n",
    "- `--mem=<_GB>` anvendes til at allokkere ram. Erstat _ med mængden af ram.\n",
    "- `--nodelist=<node>` anvendes til at køre job på en specifik node.\n",
    "- `--exclude=<node>` anvendes til at fravælge specifikke noder.\n",
    "\n",
    "Andre brugbare kommandoer:\n",
    "- `nodesummary` viser alle nodes og deres tilgængelige ressourcer\n",
    "- `squeue --me` viser dine nuværende jobs. Fjern `--me` for at se alle igangværende jobs.\n",
    "\n",
    "## Opsætning af Sandbox container\n",
    "1. Kør kommando for at lave container:\n",
    "    - `srun singularity build --sandbox <sandbox-dir-name> nvcr.io/nvidia/pytorch:23.09-py3`\n",
    "***\n",
    "2. Kør kommando for at installere software i container:\n",
    "    - `srun singularity shell --writable --fakeroot <sandbox-dir-name>`\n",
    "***\n",
    "3. Brug `pip install <package>` for at installere pakker."
   ]
  }
 ],
 "metadata": {
  "language_info": {
   "name": "python"
  }
 },
 "nbformat": 4,
 "nbformat_minor": 2
}
